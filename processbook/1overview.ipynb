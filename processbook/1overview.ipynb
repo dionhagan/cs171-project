{
 "cells": [
  {
   "cell_type": "markdown",
   "metadata": {},
   "source": [
    "# Overview and Motivation"
   ]
  },
  {
   "cell_type": "markdown",
   "metadata": {},
   "source": [
    "Every year, four million students apply to US Colleges without having a good idea of their chances of getting in. Fueled by US News Rankings, colleges puff up their rejection rates, while myopically finding students through the narrow lens of standardized test scores. This project provides data-science based probabilities of getting in along with interactive visualizations, allowing students and parents to investigate how certain aspects of their application affect the chances of an acceptance to various schools and therefore allowing them to best focus their time and money. Users can also view summaries of application and acceptance data to make other inferences about their own potential success in applying to different colleges. We then aim to disrupt the entire application process so quality students can be matched to the right school and schools can fulfill their desired mix of students.."
   ]
  },
  {
   "cell_type": "code",
   "execution_count": null,
   "metadata": {
    "collapsed": true
   },
   "outputs": [],
   "source": []
  }
 ],
 "metadata": {
  "kernelspec": {
   "display_name": "Python 2",
   "language": "python",
   "name": "python2"
  },
  "language_info": {
   "codemirror_mode": {
    "name": "ipython",
    "version": 2
   },
   "file_extension": ".py",
   "mimetype": "text/x-python",
   "name": "python",
   "nbconvert_exporter": "python",
   "pygments_lexer": "ipython2",
   "version": "2.7.11"
  }
 },
 "nbformat": 4,
 "nbformat_minor": 0
}

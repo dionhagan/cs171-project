{
 "cells": [
  {
   "cell_type": "markdown",
   "metadata": {},
   "source": [
    "# Exploratory Data Analysis"
   ]
  },
  {
   "cell_type": "markdown",
   "metadata": {},
   "source": [
    "What visualizations did you use to initially look at your data? What insights did you gain? How did these insights inform your design?"
   ]
  },
  {
   "cell_type": "markdown",
   "metadata": {
    "collapsed": true
   },
   "source": [
    "## Factor Effects\n",
    "\n",
    "In order to provide details on the factor effects, we used two approaches. Overall effects were provided by the Sci-kit Learn [Random Forest](http://scikit-learn.org/stable/modules/generated/sklearn.ensemble.RandomForestClassifier.html) classification, specifically the feature_importance property. In order to extract factors per school, we used Linear Mixed Model analysis using the following R code:\n",
    "\n",
    "```\n",
    "library(lmerTest)\n",
    "library(RJSONIO)\n",
    "##this is just one example of how LMER may be used to investigate\n",
    "##college-by-college differences. \n",
    "\n",
    "datanormed<-read.csv(\"../client/data/collegedata_normalized.csv\")\n",
    "\n",
    "factors = c('canAfford','female','MinorityGender','MinorityRace','international','sports', 'earlyAppl')\n",
    "effects = list()\n",
    "\n",
    "for (i in factors) {\n",
    "  f <- paste(\"acceptStatus~\", i, \"+(1+\", i, \"|name)\")\n",
    "  print (f)\n",
    "  model<-glmer(as.formula(f),family=\"binomial\",data=datanormed)\n",
    "  df<-data.frame(matrix(nrow=25,ncol=2))\n",
    "  df$names<-row.names(coef(model)$name)\n",
    "  df$vals<-coef(model)$name[,2]\n",
    "  df$X1 = NULL\n",
    "  df$X2 = NULL\n",
    "  effects[[i]] = df\n",
    "}\n",
    "\n",
    "outJS = toJSON(effects)\n",
    "write(outJS,\"../client/data/factors.json\")\n",
    "```\n",
    "\n",
    "We sketched a number of different means of comparing factor effects such as bar charts, maps, treemaps, ultimately deciding that a heatmap provided the best contrast and least cognitive load of interpretability for our audience."
   ]
  },
  {
   "cell_type": "markdown",
   "metadata": {},
   "source": [
    "## Predictions\n",
    "\n",
    "For the predictions, we started with a line graph so the applicant could easily see relative positioning between the different schools. After even a little user testing, we switched to a more intuitive scatterplot approach."
   ]
  },
  {
   "cell_type": "code",
   "execution_count": null,
   "metadata": {
    "collapsed": true
   },
   "outputs": [],
   "source": []
  }
 ],
 "metadata": {
  "kernelspec": {
   "display_name": "Python 2",
   "language": "python",
   "name": "python2"
  },
  "language_info": {
   "codemirror_mode": {
    "name": "ipython",
    "version": 2
   },
   "file_extension": ".py",
   "mimetype": "text/x-python",
   "name": "python",
   "nbconvert_exporter": "python",
   "pygments_lexer": "ipython2",
   "version": "2.7.11"
  }
 },
 "nbformat": 4,
 "nbformat_minor": 0
}

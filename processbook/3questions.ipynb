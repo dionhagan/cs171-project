{
 "cells": [
  {
   "cell_type": "markdown",
   "metadata": {},
   "source": [
    "# Questions"
   ]
  },
  {
   "cell_type": "markdown",
   "metadata": {
    "collapsed": true
   },
   "source": [
    "### Question 1: Likelihood of FIrst Choice Acceptance\n",
    "\n",
    "The first visualization on the first page is intended to answer the most pressing question of the high school student: what are my chances of acceptance at my first choice school?\n",
    "\n",
    "### Question 2: Likelihood of Alternate Choice Acceptance\n",
    "\n",
    "Given the vast majority of applicants apply to multiple schools, it would be very useful to know the likelihood of getting into alternative schools. This also helps a student prioritize backup choices. By definition, a backup school must have a higher probability of acceptance than a primary school. If two backups are equally desired, the applicant should prioritize applying to the school with greater probability of acceptance.\n",
    "\n",
    "### Question 3: What Factors Determine Acceptance\n",
    "\n",
    "Our second visualization permits drilling down into the details of acceptance to determine both on a per-factor and on a per-school basis which factors are most important to a given school. This is helpful in long term planning by a parent, guidance counselor or mature student as to the importance of re-taking standardized tests, focusing on GPA, choosing the quantity of AP exams or spending significant time on extracurriculars."
   ]
  },
  {
   "cell_type": "code",
   "execution_count": null,
   "metadata": {
    "collapsed": true
   },
   "outputs": [],
   "source": []
  }
 ],
 "metadata": {
  "kernelspec": {
   "display_name": "Python 2",
   "language": "python",
   "name": "python2"
  },
  "language_info": {
   "codemirror_mode": {
    "name": "ipython",
    "version": 2
   },
   "file_extension": ".py",
   "mimetype": "text/x-python",
   "name": "python",
   "nbconvert_exporter": "python",
   "pygments_lexer": "ipython2",
   "version": "2.7.11"
  }
 },
 "nbformat": 4,
 "nbformat_minor": 0
}

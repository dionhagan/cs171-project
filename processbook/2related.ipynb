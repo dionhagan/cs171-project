{
 "cells": [
  {
   "cell_type": "markdown",
   "metadata": {},
   "source": [
    "# Related Work"
   ]
  },
  {
   "cell_type": "markdown",
   "metadata": {
    "collapsed": true
   },
   "source": [
    "This project started as a continuation of the analysis work in Harvard [Data Science CS109](http://cs109.github.io/2015/). CS109 provided the foundation in terms of scraped source data, exploratory data analysis and predictive modeling. (The CS109 project, including source code, can be found [here](http://project.chanceme.info/)). At the end of the data analysis class, the team created a [very simple web site](http://www.chanceme.info/) to allow student applicants to enter their information and see the predicted results. The site was hastily cobbled together with an R/Shiny front-end interface.\n",
    "\n",
    "In [Website Planning and Design](https://www.extension.harvard.edu/academics/courses/website-planning-design/24594) (J-term DGMD-E23), a more formal process was applied to plan the web site scope, [business plan](https://docs.google.com/document/d/1mQBaiMpOU0Eh4kdLWQTzs3X2g4Pm-BecExju6vv58gU/edit?usp=sharing) and personas. From this process, it became clear that simple and intuitive user interfaces, ideally on mobile devices, would be key to the success of the endeavor.\n",
    "\n",
    "The intent of this project in CS171 was to dramatically improve this public facing web site, by significantly better interaction, usability, visualizations and detail of information without the data analysis minutae of the CS109 project. We feel we have accomplished this goal."
   ]
  },
  {
   "cell_type": "markdown",
   "metadata": {},
   "source": [
    "## Innovative Visualization\n",
    "\n",
    "Part of this project was to deliver an innovative visualization. Inspired by the work of [Edward Tufte](http://www.edwardtufte.com/tufte/index), one of the team member's attended a [one day course](http://www.edwardtufte.com/tufte/courses), which provided a different perspective on many of the themes of CS171.\n",
    "\n",
    "The course covered a fascinating perspective on the challenges of visualization from the earliest times, through manuscripts, printing and now the flat computer screen. \n",
    "\n",
    "The following image is the cover of his [Visual Explanations](http://www.edwardtufte.com/tufte/books_visex) book.\n",
    "\n",
    "![tufte](tufte.jpg)\n",
    "\n",
    "As Tufte says, \"if a picture is worth one thousand words, it should take as long to understand the visualization as to read one thousand words.\" \n",
    "\n",
    "The vast majority of visualizations in the class have been two dimensional. Even the map projections were two dimensional projections of a three dimensional space. In order to have a truly innovative visualization, the team elected to explore three dimensional representations, or what Tufte calls [\"escaping flatland\"](http://www.edwardtufte.com/bboard/q-and-a-fetch-msg?msg_id=0002Oo). \n",
    "\n",
    "We also felt that with virtual or augmented reality on the horizon, the interplay and interrelationship between the computer screen and the real world would start to blur. This required significant additional effort in understanding the potential visualizations, the tools and the user interaction offered by an interactive 3d visualization."
   ]
  },
  {
   "cell_type": "code",
   "execution_count": null,
   "metadata": {
    "collapsed": true
   },
   "outputs": [],
   "source": []
  }
 ],
 "metadata": {
  "kernelspec": {
   "display_name": "Python 2",
   "language": "python",
   "name": "python2"
  },
  "language_info": {
   "codemirror_mode": {
    "name": "ipython",
    "version": 2
   },
   "file_extension": ".py",
   "mimetype": "text/x-python",
   "name": "python",
   "nbconvert_exporter": "python",
   "pygments_lexer": "ipython2",
   "version": "2.7.11"
  }
 },
 "nbformat": 4,
 "nbformat_minor": 0
}

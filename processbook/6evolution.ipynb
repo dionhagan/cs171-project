{
 "cells": [
  {
   "cell_type": "markdown",
   "metadata": {},
   "source": [
    "# Design Evolution"
   ]
  },
  {
   "cell_type": "markdown",
   "metadata": {},
   "source": [
    "What are the different visualizations you considered? Justify the design decisions you made using the perceptual and design principles you learned in the course. Did you deviate from your proposal?"
   ]
  },
  {
   "cell_type": "markdown",
   "metadata": {},
   "source": [
    "## Contents\n",
    "\n",
    "* [First Set of Sketches](#firstsketch)\n",
    "* [Prediction Page Layout](#page1layout)\n",
    "* [Second Set of Sketches](#secondsketch)\n",
    "* [Redesign Based on Heuristic Testing](#Redesign)\n",
    "* [Prediction Prototype V1](#predictionPrototype)\n"
   ]
  },
  {
   "cell_type": "markdown",
   "metadata": {
    "collapsed": true
   },
   "source": [
    "<a id=\"firstsketch\"></a>\n",
    "## First Set of Sketches\n",
    "\n",
    "3/28/2016\n",
    "\n",
    "![sketch1](img/sketch1.jpg)\n",
    "![sketch2](img/sketch2.jpg)\n",
    "![sketch3](img/sketch3.png)\n"
   ]
  },
  {
   "cell_type": "markdown",
   "metadata": {},
   "source": [
    "<a id=\"page1layout\"></a>\n",
    "## Prediction Page Layout\n",
    "\n",
    "![prediction page layout](img/page1layout.jpg)"
   ]
  },
  {
   "cell_type": "markdown",
   "metadata": {},
   "source": [
    "<a id=\"secondsketch\"></a>\n",
    "## Second Set of Sketches \n",
    "\n",
    "April 4, 2016\n",
    "\n",
    "![page1 vis1](img/sketch1-v2.jpg)\n",
    "![page1 vis2](img/sketch2-v2.jpg)\n",
    "![page 2 vis1](img/sketch3-v2.jpg)\n"
   ]
  },
  {
   "cell_type": "markdown",
   "metadata": {
    "collapsed": true
   },
   "source": [
    "<a id=\"Redesign\"></a>\n",
    "## Redesign Based on Heuristic Evaluation\n",
    "\n",
    "A heuristic evaluation was performed in Studio on April 6, 2016. As of this writing, our team has not received the Heuristic Evaluation Report from Team Chart Junkis, so these redesign notes are based only on our own notes.\n",
    "\n",
    "### Prediction Visualization\n",
    "\n",
    "From the paper prototype, it was unclear what the sliders were for. We suspect that this was mainly due to an artifact of the paper prototype, as previous HTML implementations with user testing did not have this problem. Similarly, the variables such as SAT / ACT were not clear. \n",
    "\n",
    "It was suggested that we have tooltips to explain these items. Tooltips would work on desktop, but not on mobile which is one of our design goals. We may need to re-examine user input since requiring tooltips means that our design is not sufficiently intuitive.\n",
    "\n",
    "The current design has significant changes to the axes as the sliders move. This was deemed unintuitive so we will redesign with more static axes.\n",
    "\n",
    "Having a comparison (design 2) was universally more desirable than not having a comparison (design 1).\n",
    "\n",
    "Insteads of lines showing acceptance probability, it was suggested to use bars.\n",
    "\n",
    "### Drilldown Visualization\n",
    "\n",
    "The multiple linked visualizations were deemed too complex and confusing. Below is the redesigned drilldown visualization, emphasizing two keys aspects:\n",
    "\n",
    "* What are my current chances at a given school?\n",
    "* What factors can I change that would improve those chances?\n",
    "\n",
    "![Redesigned Drilldown](redesign1.png)\n",
    "\n",
    "The user would click on a specific factor to show the weighting of that factor for each of the 25 elite colleges.\n",
    "\n",
    "\n",
    "\n"
   ]
  },
  {
   "cell_type": "markdown",
   "metadata": {
    "collapsed": true
   },
   "source": [
    "<a id=\"predictionPrototype\"></a>\n",
    "## Prediction Prototype V1\n",
    "\n",
    "April 18, 2016\n",
    "\n",
    "Well, this was an exciting week for Team Braavos. After some hard work, the V1 of the Prediction Prototype was implemented. However, we had merge problems in github that wiped out some other work. We lost about a day recovering, but ultimately were able to prevail. \n",
    "\n",
    "![Prediction prototype V1](predictionPrototypeV1.png)\n",
    "\n",
    "This version connects to the legacy Heroku/Flask based web service. However, the response time is too slow to be usable and does not achieve our design goal of an interactive / game-like experience. So we will spend time in the coming two weeks doing one of:\n",
    "\n",
    "* Replacing the Python-based web service by a local JavaScript implementation of Random Forests\n",
    "* Figure out what the server-side bottleneck is so we can reduce latency.\n",
    "\n",
    "We did advance on the Drilldown Visualization, but due to the aforementioned github issues, we were not able to integrate the latest changes prior to the V1 prototype deadline.\n"
   ]
  },
  {
   "cell_type": "code",
   "execution_count": null,
   "metadata": {
    "collapsed": true
   },
   "outputs": [],
   "source": []
  }
 ],
 "metadata": {
  "kernelspec": {
   "display_name": "Python 2",
   "language": "python",
   "name": "python2"
  },
  "language_info": {
   "codemirror_mode": {
    "name": "ipython",
    "version": 2
   },
   "file_extension": ".py",
   "mimetype": "text/x-python",
   "name": "python",
   "nbconvert_exporter": "python",
   "pygments_lexer": "ipython2",
   "version": "2.7.11"
  }
 },
 "nbformat": 4,
 "nbformat_minor": 0
}

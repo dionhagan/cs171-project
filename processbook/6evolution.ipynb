{
 "cells": [
  {
   "cell_type": "markdown",
   "metadata": {},
   "source": [
    "# Design Evolution"
   ]
  },
  {
   "cell_type": "markdown",
   "metadata": {},
   "source": [
    "What are the different visualizations you considered? Justify the design decisions you made using the perceptual and design principles you learned in the course. Did you deviate from your proposal?"
   ]
  },
  {
   "cell_type": "markdown",
   "metadata": {},
   "source": [
    "## Contents\n",
    "\n",
    "* [First Set of Sketches](#firstsketch)\n",
    "* [Prediction Page Layout](#page1layout)\n",
    "* [Second Set of Sketches](#secondsketch)\n",
    "* [Redesign Based on Heuristic Testing](#Redesign)\n",
    "* [Prediction Prototype V1](#predictionPrototype)\n",
    "* [Studio Feedback](#studiofeedback)\n",
    "* [Innovative Visualization](#innovative)\n"
   ]
  },
  {
   "cell_type": "markdown",
   "metadata": {
    "collapsed": true
   },
   "source": [
    "<a id=\"firstsketch\"></a>\n",
    "## First Set of Sketches\n",
    "\n",
    "3/28/2016\n",
    "\n",
    "![sketch1](img/sketch1.jpg)\n",
    "![sketch2](img/sketch2.jpg)\n",
    "![sketch3](img/sketch3.png)\n"
   ]
  },
  {
   "cell_type": "markdown",
   "metadata": {},
   "source": [
    "<a id=\"page1layout\"></a>\n",
    "## Prediction Page Layout\n",
    "\n",
    "![prediction page layout](img/page1layout.jpg)"
   ]
  },
  {
   "cell_type": "markdown",
   "metadata": {},
   "source": [
    "<a id=\"secondsketch\"></a>\n",
    "## Second Set of Sketches \n",
    "\n",
    "April 4, 2016\n",
    "\n",
    "![page1 vis1](img/sketch1-v2.jpg)\n",
    "![page1 vis2](img/sketch2-v2.jpg)\n",
    "![page 2 vis1](img/sketch3-v2.jpg)\n"
   ]
  },
  {
   "cell_type": "markdown",
   "metadata": {
    "collapsed": true
   },
   "source": [
    "<a id=\"Redesign\"></a>\n",
    "## Redesign Based on Heuristic Evaluation\n",
    "\n",
    "A heuristic evaluation was performed in Studio on April 6, 2016. As of this writing, our team has not received the Heuristic Evaluation Report from Team Chart Junkis, so these redesign notes are based only on our own notes.\n",
    "\n",
    "### Prediction Visualization\n",
    "\n",
    "From the paper prototype, it was unclear what the sliders were for. We suspect that this was mainly due to an artifact of the paper prototype, as previous HTML implementations with user testing did not have this problem. Similarly, the variables such as SAT / ACT were not clear. \n",
    "\n",
    "It was suggested that we have tooltips to explain these items. Tooltips would work on desktop, but not on mobile which is one of our design goals. We may need to re-examine user input since requiring tooltips means that our design is not sufficiently intuitive.\n",
    "\n",
    "The current design has significant changes to the axes as the sliders move. This was deemed unintuitive so we will redesign with more static axes.\n",
    "\n",
    "Having a comparison (design 2) was universally more desirable than not having a comparison (design 1).\n",
    "\n",
    "Insteads of lines showing acceptance probability, it was suggested to use bars.\n",
    "\n",
    "### Drilldown Visualization\n",
    "\n",
    "The multiple linked visualizations were deemed too complex and confusing. Below is the redesigned drilldown visualization, emphasizing two keys aspects:\n",
    "\n",
    "* What are my current chances at a given school?\n",
    "* What factors can I change that would improve those chances?\n",
    "\n",
    "![Redesigned Drilldown](redesign1.png)\n",
    "\n",
    "The user would click on a specific factor to show the weighting of that factor for each of the 25 elite colleges.\n",
    "\n",
    "\n",
    "\n"
   ]
  },
  {
   "cell_type": "code",
   "execution_count": null,
   "metadata": {
    "collapsed": true
   },
   "outputs": [],
   "source": []
  },
  {
   "cell_type": "markdown",
   "metadata": {
    "collapsed": true
   },
   "source": [
    "<a id=\"predictionPrototype\"></a>\n",
    "## Prediction Prototype V1\n",
    "\n",
    "April 18, 2016\n",
    "\n",
    "Well, this was an exciting week for Team Braavos. After some hard work, the V1 of the Prediction Prototype was implemented. However, we had merge problems in github that wiped out some other work. We lost about a day recovering, but ultimately were able to prevail. \n",
    "\n",
    "![Prediction prototype V1](predictionPrototypeV1.png)\n",
    "\n",
    "This version connects to the legacy Heroku/Flask based web service. However, the response time is too slow to be usable and does not achieve our design goal of an interactive / game-like experience. So we will spend time in the coming two weeks doing one of:\n",
    "\n",
    "* Replacing the Python-based web service by a local JavaScript implementation of Random Forests\n",
    "* Figure out what the server-side bottleneck is so we can reduce latency.\n",
    "\n",
    "We did advance on the Drilldown Visualization, but due to the aforementioned github issues, we were not able to integrate the latest changes prior to the V1 prototype deadline.\n"
   ]
  },
  {
   "cell_type": "markdown",
   "metadata": {},
   "source": [
    "<a id=\"finalstudio\"></a>\n",
    "## Final Studio Feedback\n",
    "\n",
    "April 20, 2016\n",
    "\n",
    "The final studio provided very valuable feedback on our current design. This summarizes the changes we will be making:\n",
    "\n",
    "* All data fields are not captured\n",
    "  * foreign national\n",
    "  * first in family\n",
    "  * varsity sports\n",
    "  * legacy\n",
    "  * out of state\n",
    "  * applying early\n",
    "* <ove the demographics down below the vis so all the form info is together. \n",
    "* Make the vis take the whole width. \n",
    "* The line connecting the schools is confusing - use dots or a vertical bar chart. \n",
    "* For the college checkboxes, have a radio button for select all, select none, select Ivies. \n",
    "* Allow sorting of resulting by best chances in addition to school name (as we already discussed).\n",
    "* Checkbox selection 1) won't work well on mobile 2) won't work if we have 100 colleges\n",
    "* Move styles into its own style sheet (or update the chanceme Sass file - do not update chanceme.css)\n",
    "\n"
   ]
  },
  {
   "cell_type": "markdown",
   "metadata": {
    "collapsed": true
   },
   "source": [
    "<a id=\"innovative\"></a>\n",
    "## Innovative Visualization\n",
    "\n",
    "April 25, 2016\n",
    "\n",
    "For the innovative visualization, we experimented with a visualization to quickly give perspective on close vs. far schools. \n",
    "\n",
    "From our poster, we wanted to try a distorted map, like this cartogram:\n",
    "\n",
    "![distorted cartogram](cartogram.png)\n",
    "\n",
    "When we dug into this further, the thought of adding a third dimension to a fan chart seemed very appealing, like the Ancient Theatre of Epidavros:\n",
    "\n",
    "![Epidavros Theatre](epidavros.jpg)\n",
    "\n",
    "So we sketched a 3d representation of this:\n",
    "\n",
    "![3d sketch](3dsketch.jpg)\n",
    "\n",
    "Then the question became how to implement a 3d representation. D3.js has limited support for 3d. There is a separate JavaScript library for 3d visualizations called [three.js](http://threejs.org/) which has some beautiful visualizations that even work on mobile devices.\n",
    "\n",
    "So this is our V2 prototype including the innovative 3d visualzation which is linked to the prior visualization:\n",
    "\n",
    "![V2 prototype](v2prototype.png)\n",
    "\n",
    "It is still missing numerous important things like a legend, the semi-circular \"benches\" of the theatre, and better encoding. We expect to do some user testing and address these issues prior to the project deadline. Note that the real visualization allows 3d exploration of the space for panning, zooming and changing camera angle."
   ]
  },
  {
   "cell_type": "markdown",
   "metadata": {
    "collapsed": true
   },
   "source": [
    "<a id=\"drilldownevolution\"></a>\n",
    "## Drill Down Evolution\n",
    "\n",
    "At the final studio session, we also received much useful feedback regarding the drill down visualization. This visualization has evolved significantly since our first attempt.\n",
    "\n",
    "Here is the updated interaction diagram for the newly revamped Drill Down Visualization:\n",
    "![drill down interaction](drilldowninteraction.jpg)\n",
    "\n",
    "Drilling into a specific category is much clearer now:\n",
    "![drill down](dd-v2-1.png)\n",
    "\n",
    "There is also a heat map to compare criteria vs colleges that allows very specific filtering by school or candidate profile. (This particular screen shot does not show the applicant's placement but this is already working - trust us).\n",
    "\n",
    "![heatmap](dd-v2-2.png)\n",
    "\n",
    "And finally, there is a scatterplot comparison available for many dimensions, with more dimensions coming before the project deadline.\n",
    "\n",
    "![comparison](dd-v2-3.png)"
   ]
  },
  {
   "cell_type": "code",
   "execution_count": null,
   "metadata": {
    "collapsed": true
   },
   "outputs": [],
   "source": []
  }
 ],
 "metadata": {
  "kernelspec": {
   "display_name": "Python 2",
   "language": "python",
   "name": "python2"
  },
  "language_info": {
   "codemirror_mode": {
    "name": "ipython",
    "version": 2
   },
   "file_extension": ".py",
   "mimetype": "text/x-python",
   "name": "python",
   "nbconvert_exporter": "python",
   "pygments_lexer": "ipython2",
   "version": "2.7.11"
  }
 },
 "nbformat": 4,
 "nbformat_minor": 0
}

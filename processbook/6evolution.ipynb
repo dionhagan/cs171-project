{
 "cells": [
  {
   "cell_type": "markdown",
   "metadata": {},
   "source": [
    "# Design Evolution"
   ]
  },
  {
   "cell_type": "markdown",
   "metadata": {},
   "source": [
    "What are the different visualizations you considered? Justify the design decisions you made using the perceptual and design principles you learned in the course. Did you deviate from your proposal?"
   ]
  },
  {
   "cell_type": "markdown",
   "metadata": {},
   "source": [
    "## Contents\n",
    "\n",
    "* [First Set of Sketches](#firstsketch)\n",
    "* [Prediction Page Layout](#page1layout)\n",
    "* [Second Set of Sketches](#secondsketch)\n"
   ]
  },
  {
   "cell_type": "markdown",
   "metadata": {
    "collapsed": true
   },
   "source": [
    "<a id=\"firstsketch\"></a>\n",
    "## First Set of Sketches\n",
    "\n",
    "3/28/2016\n",
    "\n",
    "![sketch1](img/sketch1.jpg)\n",
    "![sketch2](img/sketch2.jpg)\n",
    "![sketch3](img/sketch3.png)\n"
   ]
  },
  {
   "cell_type": "markdown",
   "metadata": {},
   "source": [
    "<a id=\"page1layout\"></a>\n",
    "## Prediction Page Layout\n",
    "\n",
    "![prediction page layout](img/page1layout.jpg)"
   ]
  },
  {
   "cell_type": "markdown",
   "metadata": {},
   "source": [
    "<a id=\"secondsketch\"></a>\n",
    "## Second Set of Sketches \n",
    "\n",
    "April 4, 2016\n",
    "\n",
    "![page1 vis1](img/sketch1-v2.jpg)\n",
    "![page1 vis2](img/sketch2-v2.jpg)\n",
    "![page 2 vis1](img/sketch3-v2.jpg)\n"
   ]
  },
  {
   "cell_type": "code",
   "execution_count": null,
   "metadata": {
    "collapsed": true
   },
   "outputs": [],
   "source": []
  }
 ],
 "metadata": {
  "kernelspec": {
   "display_name": "Python 2",
   "language": "python",
   "name": "python2"
  },
  "language_info": {
   "codemirror_mode": {
    "name": "ipython",
    "version": 2
   },
   "file_extension": ".py",
   "mimetype": "text/x-python",
   "name": "python",
   "nbconvert_exporter": "python",
   "pygments_lexer": "ipython2",
   "version": "2.7.11"
  }
 },
 "nbformat": 4,
 "nbformat_minor": 0
}

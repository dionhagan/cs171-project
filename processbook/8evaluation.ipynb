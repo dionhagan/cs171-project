{
 "cells": [
  {
   "cell_type": "markdown",
   "metadata": {},
   "source": [
    "# Evaluation"
   ]
  },
  {
   "cell_type": "markdown",
   "metadata": {
    "collapsed": true
   },
   "source": [
    "There were multiple interesting lessons gleaned from this project.\n",
    "\n",
    "### Answering the Questions\n",
    "\n",
    "The five different visualizations we produced more than adequately addressed the original questions. We feel that with additional data, our analysis and visualizations will offer a dramatically better experience for an average high school student or parent to explore than the currently opaque factors influencing college admissions. To the best of our knowledge, there is nothing on the market that offers the ability to run multiple scenarios and hypotheticals to evaluate admissions choices.\n",
    "\n",
    "### Process\n",
    "\n",
    "The project provided an opportunity to put in place the process of target, design, implement and evaluate. The user feedback from the heuristic and studio sessions was key to seeing faults with and improving our designs. The sketching was helpful to imagine the scene before coding began, but the most valuable feedback was when the user was to play and explore with the prototypes. In our project plan, we added user testing to the processes defined in class. Even the small amount of user testing we did gave a fresh perspective as to which were the most glaring problems with our visualizations.\n",
    "\n",
    "Since visualizations touch many intuitive aspects of information processing, there is an even greater need to iterate than many other forms of software development.\n",
    "\n",
    "The project was much more effective than the homework and labs to understand the bigger picture of visualization including the need for an iterative process. As a suggestion, we recommend replacing one of the labs and perhaps one of the homeworks by increased time for the project including user testing with the target audience.\n",
    "\n",
    "### Visualization is Long Lived Problem\n",
    "\n",
    "As we saw in lecture, and reinforced from Tufte's seminar, visualization is a problem stretching back many centuries. While the media continue to evolve, the effective communication of complex information remains more of a craft, even an art, than a formula to follow. Due to this dichotomic form of problem, the ability to find people who can both express and implement sophisticated and rich visualizations will remain rare.\n",
    "\n",
    "### Escaping Flatland is Hard\n",
    "\n",
    "It is amazing that most people carry in their pocket miniaturized supercomputers with hardware acceleration and very high resolution displays that are capable of rendering 3D worlds at 50 FPS. The hardware for rich 3D visualizations has already been deployed. However, finding effective means to convey powerful and intuitive visualizations using 3D is even less understood and common than current 2D visualizations. With the coming of virtual and augmented reality, the real world and the screen will start to overlap. Yet, as we experienced with three.js, the tools are guidance is still relatively primative and difficult. We made a valiant effort in the limited time available, but feel that the 3D visualization we produced fell short as an effective means of conveying information. It was a valuable learning experience that serves only to inspire more experimentation in this domain. There is certainly room for improvement here.\n",
    "\n",
    "### Thank You!\n",
    "\n",
    "Thank you for reading and viewing our work. We appreciate your time. This class was an inspiring follow on to CS109. The ability to express and implement visualizations will clearly be a valuable skill for many years to come. Thanks!\n",
    "\n",
    " :- Dion, Marina, Malcolm and David\n",
    "\n",
    "\n"
   ]
  },
  {
   "cell_type": "code",
   "execution_count": null,
   "metadata": {
    "collapsed": true
   },
   "outputs": [],
   "source": []
  },
  {
   "cell_type": "code",
   "execution_count": null,
   "metadata": {
    "collapsed": true
   },
   "outputs": [],
   "source": []
  }
 ],
 "metadata": {
  "kernelspec": {
   "display_name": "Python 2",
   "language": "python",
   "name": "python2"
  },
  "language_info": {
   "codemirror_mode": {
    "name": "ipython",
    "version": 2
   },
   "file_extension": ".py",
   "mimetype": "text/x-python",
   "name": "python",
   "nbconvert_exporter": "python",
   "pygments_lexer": "ipython2",
   "version": "2.7.11"
  }
 },
 "nbformat": 4,
 "nbformat_minor": 0
}

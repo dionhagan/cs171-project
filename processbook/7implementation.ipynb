{
 "cells": [
  {
   "cell_type": "markdown",
   "metadata": {},
   "source": [
    "# Implementation"
   ]
  },
  {
   "cell_type": "markdown",
   "metadata": {},
   "source": [
    "Describe the intent and functionality of the interactive visualizations you implemented. Provide clear and well-referenced images showing the key design and interaction elements."
   ]
  },
  {
   "cell_type": "markdown",
   "metadata": {
    "collapsed": true
   },
   "source": [
    "## System Architecture\n",
    "\n",
    "The following diagram provides a high level overview of the system architecture:\n",
    "\n",
    "![System Architecture](SystemArchitecture.png)\n",
    "\n",
    "The majority of the processing is performed in client-side JavaScript. The prediction calculations are currently performed in Python-based webservice hosted on Heroku, as the implementation is using Sci-kit Learn's [RandomForest](http://scikit-learn.org/stable/modules/generated/sklearn.ensemble.RandomForestClassifier.html) library. Unfortunately, there is significant latency when using the webservice, with delays up t0 10 seconds for a single prediction. This does not meet our current goals of having a very interactive, game-like experience when performing predictions. \n",
    "\n",
    "If time permits, we will attempt again to replace the webservice with a client-based Random Forest JavaScript implementation, such as [Karpathy's](https://github.com/karpathy/forestjs). We attempted some initial tests but\n",
    "there were unsuccessful."
   ]
  },
  {
   "cell_type": "code",
   "execution_count": null,
   "metadata": {
    "collapsed": true
   },
   "outputs": [],
   "source": []
  }
 ],
 "metadata": {
  "kernelspec": {
   "display_name": "Python 2",
   "language": "python",
   "name": "python2"
  },
  "language_info": {
   "codemirror_mode": {
    "name": "ipython",
    "version": 2
   },
   "file_extension": ".py",
   "mimetype": "text/x-python",
   "name": "python",
   "nbconvert_exporter": "python",
   "pygments_lexer": "ipython2",
   "version": "2.7.11"
  }
 },
 "nbformat": 4,
 "nbformat_minor": 0
}
